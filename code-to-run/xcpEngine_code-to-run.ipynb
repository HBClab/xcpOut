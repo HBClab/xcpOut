{
 "cells": [
  {
   "cell_type": "markdown",
   "metadata": {},
   "source": [
    "# Code to run xcpEngine on CREST participants \n",
    "**Goals**\n",
    "\n",
    "Quantify resting functional connectivity for cross-sectional analyses, including Chooza Moon's sample with characterization of PA and sleep. Approaches of interest:\n",
    "    * ROI-ROI analysis using Schaefer parcellation (400 node)\n",
    "    * seed-based analysis with anterior and posterior hippocampus\n",
    "    * graph theoretical analysis to describe graph metrics for sleep sample like modularity"
   ]
  },
  {
   "cell_type": "markdown",
   "metadata": {},
   "source": [
    "**Steps to run**\n",
    "\n",
    "1. Data should be finished running through FMRIPREP\n",
    "\n",
    "2. Code directory for running xcp on new data\n",
    "`/Shared/vosslabhpc/Projects/CREST/code/xcp/`\n",
    "\n",
    "3. Setup/check cohort file:  https://xcpengine.readthedocs.io/overview.html#step-1-create-a-cohort-file\n",
    "    * paths for img are relative output directory for fmriprep\n",
    "    * e.g., for CREST: `fmriprep/sub-BIKE161/func/sub-BIKE161_task-rest_space-MNI152NLin2009cAsym_desc-preproc_bold.nii.gz`\n",
    "\n",
    "4. Decide on a pipeline\n",
    "    * they suggest using as-is because they're tested, and this would also help with citing their validation paper validly\n",
    "    * good options are ICA-AROMA (does have smoothing, and better with longer scans) and aCompcor (no smoothing)\n",
    "    * pipeline file: /Volumes/vosslabhpc/Projects/CREST/code/xcp/fc-acompcor.dsn\n",
    "            \n",
    "5. Run job file through argon\n",
    "    * ssh mwvoss@argon.hpc.uiowa.edu\n",
    "    * cd /Shared/vosslabhpc/Projects/CREST/code/xcp/\n",
    "    * submit job file: qsub xcp_job.sh"
   ]
  },
  {
   "cell_type": "markdown",
   "metadata": {},
   "source": [
    "**Functional Connectivity output**\n",
    " * in `fcon` directory\n",
    " * wrangle with R\n",
    " * keep analysis in a separate directory in `/derivatives/xcp_analyses`\n",
    "     * /Volumes/vosslabhpc/Projects/CREST/derivatives/xcp_analyses/xcp_analyses_fc-schaefer.Rmd\n"
   ]
  },
  {
   "cell_type": "raw",
   "metadata": {},
   "source": [
    "NOTES:\n",
    "-sub161 wasn't aligned well in looking at reference volume and segementation:\n",
    "fsleyes /Volumes/vosslabhpc/Projects/CREST/derivatives/xcp_output/sub-BIKE161/fcon/sub-BIKE161_referenceVolume.nii.gz /Volumes/vosslabhpc/Projects/CREST/derivatives/xcp_output/sub-BIKE161/fcon/schaefer400/sub-BIKE161_schaefer400.nii.gz\n",
    "-- this subject was re-run with MNI template reference with T1w specified before, check other subjects for the issue\n",
    "--others look ok, so how to re-run for fc?\n"
   ]
  },
  {
   "cell_type": "code",
   "execution_count": null,
   "metadata": {
    "collapsed": true
   },
   "outputs": [],
   "source": []
  }
 ],
 "metadata": {
  "kernelspec": {
   "display_name": "Python 3",
   "language": "python",
   "name": "python3"
  },
  "language_info": {
   "codemirror_mode": {
    "name": "ipython",
    "version": 3
   },
   "file_extension": ".py",
   "mimetype": "text/x-python",
   "name": "python",
   "nbconvert_exporter": "python",
   "pygments_lexer": "ipython3",
   "version": "3.6.3"
  }
 },
 "nbformat": 4,
 "nbformat_minor": 2
}
